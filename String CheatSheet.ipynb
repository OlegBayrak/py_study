{
 "cells": [
  {
   "cell_type": "markdown",
   "metadata": {},
   "source": [
    "# Python String Cheat Sheet"
   ]
  },
  {
   "cell_type": "markdown",
   "metadata": {},
   "source": [
    "#### What is a String?\n",
    "String is a series of characters."
   ]
  },
  {
   "cell_type": "markdown",
   "metadata": {},
   "source": [
    "### String Method .format()"
   ]
  },
  {
   "cell_type": "code",
   "execution_count": 5,
   "metadata": {},
   "outputs": [
    {
     "name": "stdout",
     "output_type": "stream",
     "text": [
      "Hello, John we reaellly miss you! You came to us from Sweden?\n"
     ]
    }
   ],
   "source": [
    "# Python String.format () \n",
    "message1 = \"Hello, {name} we reaellly miss you! You came to us from {country}?\"\n",
    "message1 = message1.format(name = \"John\", country = \"Sweden\")\n",
    "print(message1)\n",
    "#print(message1.format(country = \"Sweden\", name = \"John\"))\n",
    "#note you can insert the variables in any order\n"
   ]
  },
  {
   "cell_type": "markdown",
   "metadata": {},
   "source": [
    "### String Method .strip()"
   ]
  },
  {
   "cell_type": "code",
   "execution_count": 15,
   "metadata": {},
   "outputs": [
    {
     "name": "stdout",
     "output_type": "stream",
     "text": [
      "Hello, whitespace world!\n",
      "Hello, strange characters world!\n",
      "Hello, strange characters world!+++++\n",
      "+++++Hello, strange characters world!\n"
     ]
    }
   ],
   "source": [
    "# use strip to remove characters from the beginning or end:\n",
    "\n",
    "message1 = '    Hello, whitespace world!     '\n",
    "message2 = '+++++Hello, strange characters world!+++++'\n",
    "\n",
    "print(message1.strip())\n",
    "\n",
    "#remove whitespace from the beginning of the string:\n",
    "print(message2.strip('+'))\n",
    "\n",
    "print(message2.lstrip('+'))\n",
    "print(message2.rstrip('+'))\n",
    "\n"
   ]
  },
  {
   "cell_type": "markdown",
   "metadata": {},
   "source": []
  },
  {
   "cell_type": "markdown",
   "metadata": {},
   "source": [
    "### String method Title "
   ]
  },
  {
   "cell_type": "code",
   "execution_count": 18,
   "metadata": {},
   "outputs": [
    {
     "name": "stdout",
     "output_type": "stream",
     "text": [
      "Jack Ivanov\n",
      "Jack ivanov\n"
     ]
    }
   ],
   "source": [
    "message = 'jack ivanov'\n",
    "#Title will make all fist characters of separate words uppercase\n",
    "print(message.title())\n",
    "\n",
    "#Capitalize will make only the first character uppecase and the rest lowercase\n",
    "print(message.capitalize())"
   ]
  },
  {
   "cell_type": "markdown",
   "metadata": {},
   "source": [
    "### String method Split \n",
    "#### It splits string into a list of items"
   ]
  },
  {
   "cell_type": "code",
   "execution_count": 20,
   "metadata": {},
   "outputs": [
    {
     "name": "stdout",
     "output_type": "stream",
     "text": [
      "['Check', 'the', 'words', 'in', 'list']\n",
      "['Check', 'the', 'words', 'in', 'list']\n"
     ]
    }
   ],
   "source": [
    "message1 = \"Check the words in list\"\n",
    "message2 = \"Check_the_words_in_list\"\n",
    "\n",
    "#without arguments - split be whitespaces\n",
    "print(message.split())\n",
    "#argument can define the separator\n",
    "print(message2.split('_'))"
   ]
  },
  {
   "cell_type": "code",
   "execution_count": 29,
   "metadata": {},
   "outputs": [
    {
     "name": "stdout",
     "output_type": "stream",
     "text": [
      "19\n",
      "-1\n"
     ]
    }
   ],
   "source": [
    "### String method Find()\n",
    "#index of the first occurance of the string passed as argument\n",
    "message = 'Lets see AAAAbbbbb CCC AAA UU'\n",
    "print(message.find('C'))  \n",
    "\n",
    "#if no substring was found, -1 is returned\n",
    "print(message.find('NOSUCHSTRING'))"
   ]
  },
  {
   "cell_type": "markdown",
   "metadata": {},
   "source": [
    "### String method Replace"
   ]
  },
  {
   "cell_type": "code",
   "execution_count": 30,
   "metadata": {},
   "outputs": [
    {
     "name": "stdout",
     "output_type": "stream",
     "text": [
      "Lets see -REPLACED--REPLACED- and --\n"
     ]
    }
   ],
   "source": [
    "message = 'Lets see ** and --'\n",
    "# Replace method replaces specified as the first agrument string with the second argument string\n",
    "print(message.replace('*', '-REPLACED-'))"
   ]
  },
  {
   "cell_type": "markdown",
   "metadata": {},
   "source": [
    "### String method Upper and Lower"
   ]
  },
  {
   "cell_type": "code",
   "execution_count": 31,
   "metadata": {},
   "outputs": [
    {
     "name": "stdout",
     "output_type": "stream",
     "text": [
      "LOWE CASE LETTERS AND NOW UPPER CASE LETTERS\n",
      "lowe case letters and now upper case letters\n"
     ]
    }
   ],
   "source": [
    "message = \"lowe case letters and NOW UPPER CASE LETTERS\"\n",
    "\n",
    "#upper() method converts all characters to uppercase\n",
    "print(message.upper())\n",
    "\n",
    "# lower() method converts all characters to lowercase\n",
    "print(message.lower())"
   ]
  },
  {
   "cell_type": "markdown",
   "metadata": {},
   "source": [
    "### String method Join()"
   ]
  },
  {
   "cell_type": "code",
   "execution_count": 35,
   "metadata": {},
   "outputs": [
    {
     "name": "stdout",
     "output_type": "stream",
     "text": [
      "Check this fist part - Check this second part\n"
     ]
    }
   ],
   "source": [
    "message = 'Check this fist part'\n",
    "message2 = 'Check this second part'\n",
    "\n",
    "# first specify the delimiter and then call the join method on it\n",
    "\n",
    "result = ' - '.join([message, message2])\n",
    "#note! that you have to pass the LIST of strings to join\n",
    "print(result)"
   ]
  },
  {
   "cell_type": "markdown",
   "metadata": {},
   "source": [
    "### How to escape character with \\ (Baclskash)\n",
    "#### Also known as escape character\n",
    "It allows the interpreter to treat the next character literally or perform specific actions that wouldn’t normally happen."
   ]
  },
  {
   "cell_type": "code",
   "execution_count": 39,
   "metadata": {},
   "outputs": [
    {
     "name": "stdout",
     "output_type": "stream",
     "text": [
      "Let's watch movie 'Die Hard' tonight\n",
      "We can use ' symbols as we want to ' BUT \" is not allowed in this case\n"
     ]
    }
   ],
   "source": [
    "print ('Let\\'s watch movie \\'Die Hard\\' tonight')\n",
    "\n",
    "# Note if you have consistent usage of only ' ot \"\" symbols you can just use the \"opposite one\"\n",
    "\n",
    "print (\"We can use ' symbols as we want to BUT \\\" is not allowed in this case\")"
   ]
  },
  {
   "cell_type": "markdown",
   "metadata": {},
   "source": [
    "### The IN syntax\n",
    "IN returns boolean result of whether the substring is present or not \n"
   ]
  },
  {
   "cell_type": "code",
   "execution_count": 42,
   "metadata": {},
   "outputs": [
    {
     "name": "stdout",
     "output_type": "stream",
     "text": [
      "True\n",
      "False\n",
      "False\n"
     ]
    }
   ],
   "source": [
    "message = \"Let's check THIS word!\"\n",
    "\n",
    "print('THIS' in message)\n",
    "print('NOT THIS' in message)\n",
    "\n",
    "#Is it case sensitive? - YES\n",
    "print ('this' in message)"
   ]
  },
  {
   "cell_type": "markdown",
   "metadata": {},
   "source": [
    "### Indexing and slicing string"
   ]
  },
  {
   "cell_type": "code",
   "execution_count": 46,
   "metadata": {},
   "outputs": [
    {
     "name": "stdout",
     "output_type": "stream",
     "text": [
      "s\n",
      "Let'\n",
      "ord!\n",
      "s c\n"
     ]
    }
   ],
   "source": [
    "message = ('Let\\'s check THIS word!')\n",
    "\n",
    "#print exact character (remember fiste one starts with 0 index)\n",
    "print(message[4])\n",
    "#print range of characters from beginning\n",
    "print(message[:4])\n",
    "#print range of characters from the end\n",
    "print(message[-4:])\n",
    "#print specific range of characters\n",
    "print(message[4:7])"
   ]
  },
  {
   "cell_type": "markdown",
   "metadata": {},
   "source": [
    "### Iterate string\n",
    "To iterate string you can use for..in notation"
   ]
  },
  {
   "cell_type": "code",
   "execution_count": 48,
   "metadata": {},
   "outputs": [
    {
     "name": "stdout",
     "output_type": "stream",
     "text": [
      "I\n",
      "t\n",
      "e\n",
      "r\n",
      "a\n",
      "t\n",
      "e\n",
      " \n",
      "M\n",
      "e\n",
      "!\n"
     ]
    }
   ],
   "source": [
    "message = 'Iterate Me!'\n",
    "#This iteration goes though all elements and print them one by one\n",
    "for i in message: print(i)"
   ]
  },
  {
   "cell_type": "markdown",
   "metadata": {},
   "source": [
    "### Built-In function len()\n",
    "It return the length of the string or number of elements in the list."
   ]
  },
  {
   "cell_type": "code",
   "execution_count": 49,
   "metadata": {},
   "outputs": [
    {
     "name": "stdout",
     "output_type": "stream",
     "text": [
      "13\n",
      "3\n"
     ]
    }
   ],
   "source": [
    "# for string\n",
    "message =\"Hello, World!\"\n",
    "print(len(message))\n",
    "# for list\n",
    "names = ['John', 'Jack', 'Jim']\n",
    "print(len(names))"
   ]
  },
  {
   "cell_type": "markdown",
   "metadata": {},
   "source": [
    "### String concatenation \n",
    "To combine 2 string in one we can use + operator in Python, this process is called concatenation. "
   ]
  },
  {
   "cell_type": "code",
   "execution_count": 53,
   "metadata": {},
   "outputs": [
    {
     "name": "stdout",
     "output_type": "stream",
     "text": [
      "Fisrt part of the message and now ... second part of the message\n"
     ]
    }
   ],
   "source": [
    "message1 = \"Fisrt part of the message and now ... \"\n",
    "message2 = \"second part of the message\"\n",
    "result = message1 + message2\n",
    "print(result)"
   ]
  },
  {
   "cell_type": "markdown",
   "metadata": {},
   "source": [
    "### Interesting cases"
   ]
  },
  {
   "cell_type": "code",
   "execution_count": 55,
   "metadata": {},
   "outputs": [
    {
     "name": "stdout",
     "output_type": "stream",
     "text": [
      "Hello 5\n"
     ]
    }
   ],
   "source": [
    "# You can't mix data types in print statement\n",
    "# print(\"Hello\" + 5) - will give you an error\n",
    "\n",
    "print('Hello ' + str(5))"
   ]
  }
 ],
 "metadata": {
  "kernelspec": {
   "display_name": "Python 3",
   "language": "python",
   "name": "python3"
  },
  "language_info": {
   "codemirror_mode": {
    "name": "ipython",
    "version": 3
   },
   "file_extension": ".py",
   "mimetype": "text/x-python",
   "name": "python",
   "nbconvert_exporter": "python",
   "pygments_lexer": "ipython3",
   "version": "3.13.0"
  }
 },
 "nbformat": 4,
 "nbformat_minor": 2
}
