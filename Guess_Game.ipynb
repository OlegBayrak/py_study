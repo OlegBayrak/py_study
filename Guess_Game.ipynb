{
 "cells": [
  {
   "cell_type": "code",
   "execution_count": 26,
   "metadata": {},
   "outputs": [
    {
     "name": "stdout",
     "output_type": "stream",
     "text": [
      "Welcome to our game! You can try to guess the number! : \n",
      "A little bit more\n",
      "A little bit more\n",
      "A little bit more\n",
      "A little bit too much\n",
      "YOU WON! THE NUMBER IS = 7\n",
      "Welcome to our game! Try to guess the number!\n"
     ]
    }
   ],
   "source": [
    "# I want to write an app that generates random number and user should guess it\n",
    "import random\n",
    "\n",
    "def generate_random_number(start:int, end:int) -> int:\n",
    "    return random.randint(start, end) \n",
    "\n",
    "def check_number(user_number:int, app_number:int): \n",
    "    if user_number > app_number : print(\"A little bit too much\")\n",
    "    elif user_number < app_number : print(\"A little bit more\")\n",
    "\n",
    "def user_input(prompt:str) -> str:\n",
    "    while True: \n",
    "        try:\n",
    "            user_guess = int(input(\"Number is (from 1 to 10)........    \"))\n",
    "            if 1 <= user_guess <= 10: \n",
    "                return user_guess\n",
    "            else: print(\"The number is  out of range\")\n",
    "        except ValueError: print(\"INCORRECT INPUT, ONLY INTEGERS ALLOWED!\")\n",
    "\n",
    "\n",
    "def main():\n",
    "    random_number = generate_random_number(1,10)\n",
    "    print(\"Welcome to our game! Try to guess the number!\")\n",
    "\n",
    "while True: \n",
    "    user_guess = user_input(\"Number is (from 1 to 10):\")\n",
    "    try: \n",
    "        if user_guess == random_number:\n",
    "            print('YOU WON! THE NUMBER IS = ' + str(random_number))\n",
    "            break\n",
    "        check_number(user_guess, random_number)\n",
    "    except ValueError: print(\"WRONG NUMBER! TRY ONE MORE TIME!\")\n",
    "\n",
    "\n",
    "if __name__ == \"__main__\":\n",
    "    main()\n"
   ]
  }
 ],
 "metadata": {
  "kernelspec": {
   "display_name": "Python 3",
   "language": "python",
   "name": "python3"
  },
  "language_info": {
   "codemirror_mode": {
    "name": "ipython",
    "version": 3
   },
   "file_extension": ".py",
   "mimetype": "text/x-python",
   "name": "python",
   "nbconvert_exporter": "python",
   "pygments_lexer": "ipython3",
   "version": "3.13.0"
  }
 },
 "nbformat": 4,
 "nbformat_minor": 2
}
