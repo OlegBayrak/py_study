{
 "cells": [
  {
   "cell_type": "markdown",
   "metadata": {},
   "source": [
    "# LISTS IN PYTHON"
   ]
  },
  {
   "cell_type": "markdown",
   "metadata": {},
   "source": [
    "List is a collection of items in a particular order.\n"
   ]
  },
  {
   "cell_type": "code",
   "execution_count": 3,
   "metadata": {},
   "outputs": [
    {
     "name": "stdout",
     "output_type": "stream",
     "text": [
      "Alice\n",
      "Debbie\n",
      "ALICE\n"
     ]
    }
   ],
   "source": [
    "#Basic actions\n",
    "\n",
    "names = ['Alice', 'Bob', 'Charlie', 'Debbie']\n",
    "\n",
    "#In order to access the particular element of the list:\n",
    "\n",
    "print (names[0])\n",
    "\n",
    "#You can use indexes from the end of the list using minus (-) sign:\n",
    "\n",
    "print(names[-1])\n",
    "\n",
    "# You can use methods for elements of the list based on their type. For example, you can use the upper method to convert the string to uppercase:\n",
    "\n",
    "print (names[0].upper())\n"
   ]
  },
  {
   "cell_type": "markdown",
   "metadata": {},
   "source": [
    "### Changing, Adding, and Removing Elements"
   ]
  },
  {
   "cell_type": "code",
   "execution_count": 5,
   "metadata": {},
   "outputs": [
    {
     "name": "stdout",
     "output_type": "stream",
     "text": [
      "['honda', 'yamaha', 'suzuki', 'ducati']\n",
      "['honda', 'yamaha', 'harley', 'ducati']\n",
      "['honda', 'yamaha', 'harley', 'ducati', 'ducati']\n"
     ]
    }
   ],
   "source": [
    "# Change the element of the list\n",
    "\n",
    "motorcycles = ['honda', 'yamaha', 'suzuki', 'ducati']\n",
    "print(motorcycles)\n",
    "motorcycles[2] = 'harley'\n",
    "print(motorcycles)"
   ]
  },
  {
   "cell_type": "markdown",
   "metadata": {},
   "source": [
    "### Append (end element in the end of the list)"
   ]
  },
  {
   "cell_type": "code",
   "execution_count": 6,
   "metadata": {},
   "outputs": [
    {
     "name": "stdout",
     "output_type": "stream",
     "text": [
      "['honda', 'yamaha', 'harley', 'ducati', 'ducati', 'ducati']\n"
     ]
    }
   ],
   "source": [
    "#Adding element to the list using .append() method\n",
    "motorcycles.append('ducati')\n",
    "print(motorcycles)"
   ]
  },
  {
   "cell_type": "markdown",
   "metadata": {},
   "source": [
    "### Insert in the list"
   ]
  },
  {
   "cell_type": "code",
   "execution_count": null,
   "metadata": {},
   "outputs": [],
   "source": [
    "cars = ['bmw', 'audi', 'toyota', 'subaru']\n",
    "\n",
    "#In order to insert an element to a specific place in the list \n",
    "\n",
    "cars.insert(1, 'mercedes')"
   ]
  },
  {
   "cell_type": "markdown",
   "metadata": {},
   "source": [
    "### Delete from the list"
   ]
  },
  {
   "cell_type": "code",
   "execution_count": 2,
   "metadata": {},
   "outputs": [
    {
     "name": "stdout",
     "output_type": "stream",
     "text": [
      "['bmw', 'toyota', 'subaru']\n"
     ]
    }
   ],
   "source": [
    "#In order to remove an element from the list\n",
    "#If you know the position of the element in the list:\n",
    "cars = ['bmw', 'audi', 'toyota', 'subaru']\n",
    "\n",
    "del cars[1]\n",
    "print(cars)"
   ]
  },
  {
   "cell_type": "markdown",
   "metadata": {},
   "source": [
    "### POP method"
   ]
  },
  {
   "cell_type": "code",
   "execution_count": 4,
   "metadata": {},
   "outputs": [
    {
     "name": "stdout",
     "output_type": "stream",
     "text": [
      "['honda', 'yamaha', 'suzuki']\n",
      "['honda', 'yamaha']\n",
      "suzuki\n",
      "My second motorcycle is yamaha\n"
     ]
    }
   ],
   "source": [
    "#The pop() method removes the last item in a list, but it lets you work with that item after removing it. \n",
    "motorcycles = ['honda', 'yamaha', 'suzuki']\n",
    "print(motorcycles)\n",
    "\n",
    "popped_motorcycle = motorcycles.pop()\n",
    "print(motorcycles)  \n",
    "print(popped_motorcycle)\n",
    "\n",
    "# Actually we can use .pop for any position in the list\n",
    "my_second_motorcycle = motorcycles.pop(1)\n",
    "print('My second motorcycle is ' + my_second_motorcycle)\n",
    "print(motorcycles)\n",
    "\n",
    "#If you’re unsure whether to use the del statement or the pop() method,\n",
    "#here’s a simple way to decide: when you want to delete an item from a list\n",
    "#and not use that item in any way, use the del s"
   ]
  },
  {
   "cell_type": "markdown",
   "metadata": {},
   "source": [
    "### Removing element by Value"
   ]
  },
  {
   "cell_type": "code",
   "execution_count": 9,
   "metadata": {},
   "outputs": [
    {
     "name": "stdout",
     "output_type": "stream",
     "text": [
      "['honda', 'yamaha', 'suzuki', 'ducati']\n",
      "['honda', 'yamaha', 'suzuki']\n",
      "Old motorcycle removed, now: ['honda', 'suzuki']\n"
     ]
    }
   ],
   "source": [
    "motorcycles = ['honda', 'yamaha', 'suzuki', 'ducati']\n",
    "print(motorcycles)\n",
    "\n",
    "#use remove function to remove the element by its value\n",
    "\n",
    "motorcycles.remove('ducati')\n",
    "print(motorcycles)\n",
    "\n",
    "#if you want to work with the value you are removing, use next method:\n",
    "old_motorcycle = 'yamaha'\n",
    "motorcycles.remove(old_motorcycle)\n",
    "print('Old motorcycle removed, now: ' + str(motorcycles))\n",
    "\n",
    "#remove deletes only the first occurence of the value in the list"
   ]
  },
  {
   "cell_type": "markdown",
   "metadata": {},
   "source": [
    "# Sorting/Organising lists"
   ]
  },
  {
   "cell_type": "markdown",
   "metadata": {},
   "source": [
    "#### Sorting lis permanently with sort() Method"
   ]
  },
  {
   "cell_type": "code",
   "execution_count": 12,
   "metadata": {},
   "outputs": [
    {
     "name": "stdout",
     "output_type": "stream",
     "text": [
      "['audi', 'audi', 'bmw', 'subaru', 'toyota']\n",
      "['toyota', 'subaru', 'bmw', 'audi', 'audi']\n"
     ]
    }
   ],
   "source": [
    "cars = ['bmw', 'audi', 'toyota', 'subaru', 'audi']\n",
    "# Note, after sorting with this method the list will be changed permanently\n",
    "cars.sort()\n",
    "print(cars)\n",
    "#Revert sorting:\n",
    "cars.sort(reverse=True)\n",
    "print(cars)\n"
   ]
  },
  {
   "cell_type": "markdown",
   "metadata": {},
   "source": [
    "### Sorting a List Temporarily with the sorted() Function"
   ]
  },
  {
   "cell_type": "code",
   "execution_count": 13,
   "metadata": {},
   "outputs": [
    {
     "name": "stdout",
     "output_type": "stream",
     "text": [
      "Here is the original list:\n",
      "['bmw', 'audi', 'toyota', 'subaru', 'audi']\n",
      "\n",
      "Here is the sorted list:\n",
      "['audi', 'audi', 'bmw', 'subaru', 'toyota']\n"
     ]
    }
   ],
   "source": [
    "cars = ['bmw', 'audi', 'toyota', 'subaru', 'audi']\n",
    "print('Here is the original list:')\n",
    "print(cars)\n",
    "print('\\nHere is the sorted list:')\n",
    "print(sorted(cars))"
   ]
  },
  {
   "cell_type": "markdown",
   "metadata": {},
   "source": [
    "### Printing a List in Reverse Order"
   ]
  },
  {
   "cell_type": "code",
   "execution_count": 14,
   "metadata": {},
   "outputs": [
    {
     "name": "stdout",
     "output_type": "stream",
     "text": [
      "['september', 'august', 'july', 'june', 'may', 'april', 'march', 'february', 'january']\n"
     ]
    }
   ],
   "source": [
    "months = ['january', 'february', 'march', 'april', 'may', 'june', 'july', 'august', 'september']\n",
    "months.reverse()\n",
    "print(months)"
   ]
  },
  {
   "cell_type": "code",
   "execution_count": 25,
   "metadata": {},
   "outputs": [
    {
     "name": "stdout",
     "output_type": "stream",
     "text": [
      "['paris', 'london', 'new york', 'tokyo', 'moscow']\n",
      "['london', 'moscow', 'new york', 'paris', 'tokyo']\n",
      "['paris', 'london', 'new york', 'tokyo', 'moscow']\n",
      "['tokyo', 'paris', 'new york', 'moscow', 'london']\n",
      "['paris', 'london', 'new york', 'tokyo', 'moscow']\n",
      "['moscow', 'tokyo', 'new york', 'london', 'paris']\n",
      "['paris', 'london', 'new york', 'tokyo', 'moscow']\n",
      "['london', 'moscow', 'new york', 'paris', 'tokyo']\n",
      "['tokyo', 'paris', 'new york', 'moscow', 'london']\n"
     ]
    }
   ],
   "source": [
    "locations = ['paris', 'london', 'new york', 'tokyo', 'moscow']\n",
    "print(locations)\n",
    "print(sorted(locations))   \n",
    "print(locations)\n",
    "print(sorted(locations, reverse=True))\n",
    "print(locations)\n",
    "locations.reverse()\n",
    "print(locations)\n",
    "locations.reverse()\n",
    "print(locations)\n",
    "locations.sort()\n",
    "print(locations)\n",
    "locations.sort(reverse=True)\n",
    "print(locations)"
   ]
  },
  {
   "cell_type": "code",
   "execution_count": null,
   "metadata": {},
   "outputs": [],
   "source": [
    "# I will try to input list of cities from the file and sort them\n",
    "# After that I will write it as a new line in the file\n",
    "\n"
   ]
  }
 ],
 "metadata": {
  "kernelspec": {
   "display_name": "Python 3",
   "language": "python",
   "name": "python3"
  },
  "language_info": {
   "codemirror_mode": {
    "name": "ipython",
    "version": 3
   },
   "file_extension": ".py",
   "mimetype": "text/x-python",
   "name": "python",
   "nbconvert_exporter": "python",
   "pygments_lexer": "ipython3",
   "version": "3.13.0"
  }
 },
 "nbformat": 4,
 "nbformat_minor": 2
}
