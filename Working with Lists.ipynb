{
 "cells": [
  {
   "cell_type": "markdown",
   "metadata": {},
   "source": [
    "### How to work with lists "
   ]
  },
  {
   "cell_type": "code",
   "execution_count": 4,
   "metadata": {},
   "outputs": [
    {
     "name": "stdout",
     "output_type": "stream",
     "text": [
      "Ford\n",
      "Volvo\n",
      "BMW\n"
     ]
    }
   ],
   "source": [
    "# In order to go though the list and do something with each element, we can use a for loop.\n",
    "cars = [\"Ford\", \"Volvo\", \"BMW\"]\n",
    "#In fact in this loop, code pulls an elemnt from the list and store it in i variable. \n",
    "for car in cars :\n",
    "    print (car)"
   ]
  },
  {
   "cell_type": "code",
   "execution_count": 11,
   "metadata": {},
   "outputs": [
    {
     "name": "stdout",
     "output_type": "stream",
     "text": [
      "We have Pepperoni pizza\n",
      "We have Cheese pizza\n",
      "We have Veggie pizza\n",
      "\n",
      "I like all those pizzas!\n"
     ]
    }
   ],
   "source": [
    "pizzas = [\"Pepperoni\", \"Cheese\", \"Veggie\"]\n",
    "\n",
    "for pizza in pizzas :\n",
    "    print(\"We have \" + pizza + \" pizza\")\n",
    "\n",
    "print('\\nI like all those pizzas!')"
   ]
  },
  {
   "cell_type": "code",
   "execution_count": null,
   "metadata": {},
   "outputs": [],
   "source": [
    "pizzas = [\"Pepperoni\", \"Cheese\", \"Veggie\"]\n",
    "for pizza in pizzas :\n",
    "    print(pizza + \" pizza is delicious!\")"
   ]
  }
 ],
 "metadata": {
  "kernelspec": {
   "display_name": "Python 3",
   "language": "python",
   "name": "python3"
  },
  "language_info": {
   "codemirror_mode": {
    "name": "ipython",
    "version": 3
   },
   "file_extension": ".py",
   "mimetype": "text/x-python",
   "name": "python",
   "nbconvert_exporter": "python",
   "pygments_lexer": "ipython3",
   "version": "3.13.0"
  }
 },
 "nbformat": 4,
 "nbformat_minor": 2
}
